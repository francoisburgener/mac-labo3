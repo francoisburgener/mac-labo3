{
 "cells": [
  {
   "cell_type": "markdown",
   "metadata": {},
   "source": [
    "# Labo 3: Spark\n",
    "\n",
    "Authors: Christopher MEIER and Guillaume HOCHET\n",
    "\n",
    "Based on the work of: Gary MARIGLIANO and Miguel SANTAMARIA\n",
    "\n",
    "For MAC course given by Nastaran FATEMI\n",
    "\n",
    "Date: November 2019"
   ]
  },
  {
   "cell_type": "code",
   "execution_count": 1,
   "metadata": {},
   "outputs": [
    {
     "data": {
      "text/plain": [
       "\u001b[32mimport \u001b[39m\u001b[36m$ivy.$                                  \n",
       "\u001b[39m\n",
       "\u001b[32mimport \u001b[39m\u001b[36morg.apache.spark.rdd.RDD\n",
       "\u001b[39m\n",
       "\u001b[32mimport \u001b[39m\u001b[36morg.apache.spark.sql.functions._\n",
       "\n",
       "\u001b[39m\n",
       "\u001b[32mimport \u001b[39m\u001b[36morg.apache.log4j.{Level, Logger}\n",
       "\u001b[39m"
      ]
     },
     "execution_count": 1,
     "metadata": {},
     "output_type": "execute_result"
    }
   ],
   "source": [
    "import $ivy.`org.apache.spark::spark-sql:2.4.4`\n",
    "import org.apache.spark.rdd.RDD\n",
    "import org.apache.spark.sql.functions._\n",
    "\n",
    "import org.apache.log4j.{Level, Logger}\n",
    "Logger.getLogger(\"org\").setLevel(Level.WARN)"
   ]
  },
  {
   "cell_type": "code",
   "execution_count": 2,
   "metadata": {},
   "outputs": [
    {
     "name": "stdout",
     "output_type": "stream",
     "text": [
      "Loading spark-stubs\n",
      "Getting spark JARs\n",
      "Creating SparkSession\n"
     ]
    },
    {
     "name": "stderr",
     "output_type": "stream",
     "text": [
      "Using Spark's default log4j profile: org/apache/spark/log4j-defaults.properties\n",
      "19/11/20 13:09:33 WARN NativeCodeLoader: Unable to load native-hadoop library for your platform... using builtin-java classes where applicable\n"
     ]
    },
    {
     "data": {
      "text/html": [
       "<a href=\"http://2d40f91fa6d1:4040\">Spark UI</a>"
      ]
     },
     "metadata": {},
     "output_type": "display_data"
    },
    {
     "data": {
      "text/plain": [
       "\u001b[32mimport \u001b[39m\u001b[36morg.apache.spark.sql._\n",
       "\u001b[39m\n",
       "\u001b[36mspark\u001b[39m: \u001b[32mSparkSession\u001b[39m = org.apache.spark.sql.SparkSession@8f1cf73\n",
       "\u001b[32mimport \u001b[39m\u001b[36mspark.implicits._\u001b[39m"
      ]
     },
     "execution_count": 2,
     "metadata": {},
     "output_type": "execute_result"
    }
   ],
   "source": [
    "// Create a spark session\n",
    "// To have better integration with Jupyter, we use a wrapper class provided by almond-spark\n",
    "import org.apache.spark.sql._\n",
    "val spark = {\n",
    "  NotebookSparkSession.builder()\n",
    "    .master(\"local[*]\")\n",
    "    .getOrCreate()\n",
    "}\n",
    "import spark.implicits._"
   ]
  },
  {
   "cell_type": "code",
   "execution_count": 3,
   "metadata": {},
   "outputs": [
    {
     "data": {
      "text/plain": [
       "defined \u001b[32mfunction\u001b[39m \u001b[36msc\u001b[39m"
      ]
     },
     "execution_count": 3,
     "metadata": {},
     "output_type": "execute_result"
    }
   ],
   "source": [
    "// Retrieve the Spark context\n",
    "def sc = spark.sparkContext"
   ]
  },
  {
   "cell_type": "code",
   "execution_count": 4,
   "metadata": {},
   "outputs": [
    {
     "data": {
      "text/plain": [
       "defined \u001b[32mclass\u001b[39m \u001b[36mMovie\u001b[39m"
      ]
     },
     "execution_count": 4,
     "metadata": {},
     "output_type": "execute_result"
    }
   ],
   "source": [
    "case class Movie(id: Int, title: String, genres: Seq[String],\n",
    "                 description: String, director: String, actors: Seq[String],\n",
    "                 year: Int, rating: Float, votes: Int)"
   ]
  },
  {
   "cell_type": "code",
   "execution_count": 5,
   "metadata": {},
   "outputs": [
    {
     "data": {
      "text/plain": [
       "defined \u001b[32mfunction\u001b[39m \u001b[36mparseRow\u001b[39m"
      ]
     },
     "execution_count": 5,
     "metadata": {},
     "output_type": "execute_result"
    }
   ],
   "source": [
    "  def parseRow(row: Row): Movie = {\n",
    "    val id = row.getInt(0)\n",
    "    val title = row.getString(1)\n",
    "    val genres = row.getString(2).split(\",\").toList\n",
    "    val description = row.getString(3)\n",
    "    val director = row.getString(4)\n",
    "    val actors = row.getString(5).split(\",\").toList\n",
    "    val year = row.getInt(6)\n",
    "    val rating = row.getDouble(8).toFloat\n",
    "    val votes = row.getInt(9)\n",
    "\n",
    "    Movie(id, title, genres, description, director, actors, year, rating, votes)\n",
    "  }"
   ]
  },
  {
   "cell_type": "code",
   "execution_count": 6,
   "metadata": {},
   "outputs": [
    {
     "data": {
      "text/html": [
       "<script>\n",
       "var comm = Jupyter.notebook.kernel.comm_manager.new_comm('cancel-stage-dc5378fb-5597-46a4-b4d1-eac6c60cf5fd', {});\n",
       "\n",
       "function cancelStage(stageId) {\n",
       "  console.log('Cancelling stage ' + stageId);\n",
       "  comm.send({ 'stageId': stageId });\n",
       "}\n",
       "</script>\n",
       "          "
      ]
     },
     "metadata": {},
     "output_type": "display_data"
    },
    {
     "data": {
      "text/html": [
       "<div>\n",
       "  <span style=\"float: left;\">load at cmd5.sc:6</span>\n",
       "</div>\n"
      ]
     },
     "metadata": {},
     "output_type": "display_data"
    },
    {
     "data": {
      "text/html": [
       "<div class=\"progress\">\n",
       "  <div class=\"progress-bar\" role=\"progressbar\" style=\"background-color: blue; width: 100%; word-wrap: normal; white-space: nowrap; text-align: center; color: white\" aria-valuenow=\"100\" aria-valuemin=\"0\" aria-valuemax=\"100\">\n",
       "    1 / 1\n",
       "  </div>\n",
       "  <div class=\"progress-bar\" role=\"progressbar\" style=\"background-color: red; width: 0%\" aria-valuenow=\"0\" aria-valuemin=\"0\" aria-valuemax=\"100\"></div>\n",
       "</div>\n"
      ]
     },
     "metadata": {},
     "output_type": "display_data"
    },
    {
     "data": {
      "text/html": [
       "<div>\n",
       "  <span style=\"float: left;\">load at cmd5.sc:6</span>\n",
       "</div>\n"
      ]
     },
     "metadata": {},
     "output_type": "display_data"
    },
    {
     "data": {
      "text/html": [
       "<div class=\"progress\">\n",
       "  <div class=\"progress-bar\" role=\"progressbar\" style=\"background-color: blue; width: 100%; word-wrap: normal; white-space: nowrap; text-align: center; color: white\" aria-valuenow=\"100\" aria-valuemin=\"0\" aria-valuemax=\"100\">\n",
       "    1 / 1\n",
       "  </div>\n",
       "  <div class=\"progress-bar\" role=\"progressbar\" style=\"background-color: red; width: 0%\" aria-valuenow=\"0\" aria-valuemin=\"0\" aria-valuemax=\"100\"></div>\n",
       "</div>\n"
      ]
     },
     "metadata": {},
     "output_type": "display_data"
    },
    {
     "data": {
      "text/plain": [
       "\u001b[36mfilename\u001b[39m: \u001b[32mString\u001b[39m = \u001b[32m\"../data/IMDB-Movie-Data.csv\"\u001b[39m\n",
       "\u001b[36mmoviesDF\u001b[39m: \u001b[32mDataFrame\u001b[39m = [Rank: int, Title: string ... 10 more fields]\n",
       "\u001b[36mrddMovies\u001b[39m: \u001b[32mRDD\u001b[39m[\u001b[32mMovie\u001b[39m] = MapPartitionsRDD[13] at map at cmd5.sc:7"
      ]
     },
     "execution_count": 6,
     "metadata": {},
     "output_type": "execute_result"
    }
   ],
   "source": [
    "val filename = \"../data/IMDB-Movie-Data.csv\"\n",
    "val moviesDF = spark.read.format(\"csv\")\n",
    "    .option(\"sep\", \",\")\n",
    "    .option(\"inferSchema\", \"true\")\n",
    "    .option(\"header\", \"true\")\n",
    "    .load(filename)\n",
    "val rddMovies = moviesDF.rdd.map(parseRow)"
   ]
  },
  {
   "cell_type": "code",
   "execution_count": 7,
   "metadata": {},
   "outputs": [
    {
     "data": {
      "text/html": [
       "<div>\n",
       "  <span style=\"float: left;\">take at cmd6.sc:1</span>\n",
       "</div>\n"
      ]
     },
     "metadata": {},
     "output_type": "display_data"
    },
    {
     "data": {
      "text/html": [
       "<div class=\"progress\">\n",
       "  <div class=\"progress-bar\" role=\"progressbar\" style=\"background-color: blue; width: 100%; word-wrap: normal; white-space: nowrap; text-align: center; color: white\" aria-valuenow=\"100\" aria-valuemin=\"0\" aria-valuemax=\"100\">\n",
       "    1 / 1\n",
       "  </div>\n",
       "  <div class=\"progress-bar\" role=\"progressbar\" style=\"background-color: red; width: 0%\" aria-valuenow=\"0\" aria-valuemin=\"0\" aria-valuemax=\"100\"></div>\n",
       "</div>\n"
      ]
     },
     "metadata": {},
     "output_type": "display_data"
    },
    {
     "name": "stdout",
     "output_type": "stream",
     "text": [
      "Guardians of the Galaxy\n",
      "Prometheus\n",
      "Split\n",
      "Sing\n",
      "Suicide Squad\n",
      "The Great Wall\n",
      "La La Land\n",
      "Mindhorn\n",
      "The Lost City of Z\n",
      "Passengers\n"
     ]
    }
   ],
   "source": [
    "// Print the title of the first 10 movies to see if they were correctly added.\n",
    "rddMovies.take(10).map(m => m.title).foreach(println)"
   ]
  },
  {
   "cell_type": "markdown",
   "metadata": {},
   "source": [
    "## Part 1 - Playing with the movies using RDD functions\n",
    "\n",
    "The goal of this part is to play (i.e. query, filter and transform the data) with the movies."
   ]
  },
  {
   "cell_type": "markdown",
   "metadata": {},
   "source": [
    "### Ex1 - Print the movies whose title contains \"City\" \n",
    "\n",
    "Goal: \n",
    "\n",
    "* use `map()` and `filter()` methods to get the title of the movies that contains \"City\" in their title\n",
    " \n",
    "Output example:\n",
    "\n",
    "```plain\n",
    "City of Tiny Lights\n",
    "The Mortal Instruments: City of Bones\n",
    "```\n",
    "\n",
    "Steps:\n",
    "\n",
    "* Use `filter()` to only keep the movies that contains \"City\" in their title\n",
    "* Use `map()` to retrieve the titles of these filtered movies\n",
    "* Use `foreach()` to pretty print the results\n"
   ]
  },
  {
   "cell_type": "code",
   "execution_count": 8,
   "metadata": {},
   "outputs": [
    {
     "data": {
      "text/html": [
       "<div>\n",
       "  <span style=\"float: left;\">foreach at cmd7.sc:3</span>\n",
       "</div>\n"
      ]
     },
     "metadata": {},
     "output_type": "display_data"
    },
    {
     "data": {
      "text/html": [
       "<div class=\"progress\">\n",
       "  <div class=\"progress-bar\" role=\"progressbar\" style=\"background-color: blue; width: 100%; word-wrap: normal; white-space: nowrap; text-align: center; color: white\" aria-valuenow=\"100\" aria-valuemin=\"0\" aria-valuemax=\"100\">\n",
       "    1 / 1\n",
       "  </div>\n",
       "  <div class=\"progress-bar\" role=\"progressbar\" style=\"background-color: red; width: 0%\" aria-valuenow=\"0\" aria-valuemin=\"0\" aria-valuemax=\"100\"></div>\n",
       "</div>\n"
      ]
     },
     "metadata": {},
     "output_type": "display_data"
    },
    {
     "name": "stdout",
     "output_type": "stream",
     "text": [
      "The Lost City of Z\n",
      "Sin City: A Dame to Kill For\n",
      "City of Tiny Lights\n",
      "The Mortal Instruments: City of Bones\n",
      "Sex and the City\n",
      "Sex and the City 2\n"
     ]
    }
   ],
   "source": [
    "// DONE students\n",
    "rddMovies.filter(m => m.title.contains(\"City\"))\n",
    "         .map(m => m.title)\n",
    "         .foreach(println)"
   ]
  },
  {
   "cell_type": "markdown",
   "metadata": {},
   "source": [
    "### Ex2- Print the title of the movies rated between `rateMin` and `rateMax`. Take the 10 worst ratings.\n",
    "\n",
    "Goal:\n",
    "    \n",
    "* Take the titles of the movies that were rated between `rateMin` and `rateMax` (exclusing `rateMin` and including`rateMax`).\n",
    "* This list is sorted by rating ASC\n",
    "    \n",
    "Output example:\n",
    "\n",
    "```plain\n",
    "...\n",
    "3.5 - Wrecker\n",
    "3.7 - The Last Face\n",
    "...\n",
    "```\n",
    "    \n",
    "Steps:\n",
    "\n",
    "* Use `filter()` to only keep the movies released between `rateMin` and `rateMax`\n",
    "* Sort the filtered movies by decreasing rating\n",
    "* Use `map()` to keep only the relevant attributes (i.e. rating and title)\n",
    "* Use `foreach()` to pretty print the results"
   ]
  },
  {
   "cell_type": "code",
   "execution_count": 9,
   "metadata": {},
   "outputs": [
    {
     "data": {
      "text/html": [
       "<div>\n",
       "  <span style=\"float: left;\">sortBy at cmd8.sc:4</span>\n",
       "</div>\n"
      ]
     },
     "metadata": {},
     "output_type": "display_data"
    },
    {
     "data": {
      "text/html": [
       "<div class=\"progress\">\n",
       "  <div class=\"progress-bar\" role=\"progressbar\" style=\"background-color: blue; width: 100%; word-wrap: normal; white-space: nowrap; text-align: center; color: white\" aria-valuenow=\"100\" aria-valuemin=\"0\" aria-valuemax=\"100\">\n",
       "    1 / 1\n",
       "  </div>\n",
       "  <div class=\"progress-bar\" role=\"progressbar\" style=\"background-color: red; width: 0%\" aria-valuenow=\"0\" aria-valuemin=\"0\" aria-valuemax=\"100\"></div>\n",
       "</div>\n"
      ]
     },
     "metadata": {},
     "output_type": "display_data"
    },
    {
     "data": {
      "text/html": [
       "<div>\n",
       "  <span style=\"float: left;\">take at cmd8.sc:6</span>\n",
       "</div>\n"
      ]
     },
     "metadata": {},
     "output_type": "display_data"
    },
    {
     "data": {
      "text/html": [
       "<div class=\"progress\">\n",
       "  <div class=\"progress-bar\" role=\"progressbar\" style=\"background-color: blue; width: 100%; word-wrap: normal; white-space: nowrap; text-align: center; color: white\" aria-valuenow=\"100\" aria-valuemin=\"0\" aria-valuemax=\"100\">\n",
       "    1 / 1\n",
       "  </div>\n",
       "  <div class=\"progress-bar\" role=\"progressbar\" style=\"background-color: red; width: 0%\" aria-valuenow=\"0\" aria-valuemin=\"0\" aria-valuemax=\"100\"></div>\n",
       "</div>\n"
      ]
     },
     "metadata": {},
     "output_type": "display_data"
    },
    {
     "name": "stdout",
     "output_type": "stream",
     "text": [
      "1.9 - Disaster Movie\n",
      "2.7 - Don't Fuck in the Woods\n",
      "2.7 - Dragonball Evolution\n",
      "3.2 - Tall Men\n",
      "3.5 - The Intent\n",
      "3.5 - Wrecker\n",
      "3.7 - The Last Face\n",
      "3.7 - Satanic\n",
      "3.9 - The Disappointments Room\n",
      "3.9 - The Black Room\n"
     ]
    },
    {
     "data": {
      "text/plain": [
       "\u001b[36mrateMin\u001b[39m: \u001b[32mInt\u001b[39m = \u001b[32m0\u001b[39m\n",
       "\u001b[36mrateMax\u001b[39m: \u001b[32mInt\u001b[39m = \u001b[32m5\u001b[39m"
      ]
     },
     "execution_count": 9,
     "metadata": {},
     "output_type": "execute_result"
    }
   ],
   "source": [
    "// TODO student\n",
    "//rddMovies.take(10).map(m => m.rating).foreach(println)\n",
    "val rateMin = 0\n",
    "val rateMax = 5\n",
    "rddMovies.filter(m => m.rating > rateMin && m.rating <= rateMax)\n",
    "         .sortBy(m => m.rating,true)\n",
    "         .map(m => m.rating + \" - \" + m.title)\n",
    "         .take(10)\n",
    "         .foreach(println)"
   ]
  },
  {
   "cell_type": "markdown",
   "metadata": {},
   "source": [
    "### Ex3 - Print the 10 top genres\n",
    "\n",
    "Goals:\n",
    "\n",
    "* Print the list of the genres that appears the most\n",
    "* Use `flatMap()`\n",
    "\n",
    "Output example:\n",
    "\n",
    "```plain\n",
    "Drama (513)\n",
    "Action (303)\n",
    "Comedy (279)\n",
    "Adventure (259)\n",
    "```\n",
    "\n",
    "Theory:\n",
    "\n",
    "When an operation is giving you a sequence of sequences like:\n",
    "\n",
    "```scala\n",
    "Array(\"hello\", \"world\").map(word => word.split(\"\"))\n",
    "res91: Array[Array[String]] = Array(Array(h, e, l, l, o), Array(w, o, r, l, d))\n",
    "```\n",
    "\n",
    "You may want to flatten this to only have a single list like:\n",
    "```scala\n",
    "Array(\"hello\", \"world\").map(_.split(\"\")).flatten\n",
    "res93: Array[String] = Array(h, e, l, l, o, w, o, r, l, d)\n",
    "```\n",
    "\n",
    "You can achieve the same result (i.e. `map` + `flatten`) using `flatMap`:\n",
    "```scala\n",
    "Array(\"hello\", \"world\").flatMap(_.split(\"\"))\n",
    "res95: Array[String] = Array(h, e, l, l, o, w, o, r, l, d)\n",
    "```\n",
    "\n",
    "We are going to apply this same technique with the `genres` member.\n",
    "\n",
    "Steps:\n",
    "\n",
    "* Use `flatMap()` to get the list with all the genres\n",
    "* Make sure to remove trailling whitespaces\n",
    "* Count the genres\n",
    "* Sort them by decreasing order\n",
    "* Show the top N genres"
   ]
  },
  {
   "cell_type": "code",
   "execution_count": 10,
   "metadata": {},
   "outputs": [
    {
     "data": {
      "text/html": [
       "<div>\n",
       "  <span style=\"float: left;\">map at cmd9.sc:2</span>\n",
       "</div>\n"
      ]
     },
     "metadata": {},
     "output_type": "display_data"
    },
    {
     "data": {
      "text/html": [
       "<div class=\"progress\">\n",
       "  <div class=\"progress-bar\" role=\"progressbar\" style=\"background-color: blue; width: 100%; word-wrap: normal; white-space: nowrap; text-align: center; color: white\" aria-valuenow=\"100\" aria-valuemin=\"0\" aria-valuemax=\"100\">\n",
       "    1 / 1\n",
       "  </div>\n",
       "  <div class=\"progress-bar\" role=\"progressbar\" style=\"background-color: red; width: 0%\" aria-valuenow=\"0\" aria-valuemin=\"0\" aria-valuemax=\"100\"></div>\n",
       "</div>\n"
      ]
     },
     "metadata": {},
     "output_type": "display_data"
    },
    {
     "data": {
      "text/html": [
       "<div>\n",
       "  <span style=\"float: left;\">sortBy at cmd9.sc:4</span>\n",
       "</div>\n"
      ]
     },
     "metadata": {},
     "output_type": "display_data"
    },
    {
     "data": {
      "text/html": [
       "<div class=\"progress\">\n",
       "  <div class=\"progress-bar\" role=\"progressbar\" style=\"background-color: blue; width: 100%; word-wrap: normal; white-space: nowrap; text-align: center; color: white\" aria-valuenow=\"100\" aria-valuemin=\"0\" aria-valuemax=\"100\">\n",
       "    1 / 1\n",
       "  </div>\n",
       "  <div class=\"progress-bar\" role=\"progressbar\" style=\"background-color: red; width: 0%\" aria-valuenow=\"0\" aria-valuemin=\"0\" aria-valuemax=\"100\"></div>\n",
       "</div>\n"
      ]
     },
     "metadata": {},
     "output_type": "display_data"
    },
    {
     "data": {
      "text/html": [
       "<div>\n",
       "  <span style=\"float: left;\">foreach at cmd9.sc:6</span>\n",
       "</div>\n"
      ]
     },
     "metadata": {},
     "output_type": "display_data"
    },
    {
     "data": {
      "text/html": [
       "<div class=\"progress\">\n",
       "  <div class=\"progress-bar\" role=\"progressbar\" style=\"background-color: blue; width: 100%; word-wrap: normal; white-space: nowrap; text-align: center; color: white\" aria-valuenow=\"100\" aria-valuemin=\"0\" aria-valuemax=\"100\">\n",
       "    1 / 1\n",
       "  </div>\n",
       "  <div class=\"progress-bar\" role=\"progressbar\" style=\"background-color: red; width: 0%\" aria-valuenow=\"0\" aria-valuemin=\"0\" aria-valuemax=\"100\"></div>\n",
       "</div>\n"
      ]
     },
     "metadata": {},
     "output_type": "display_data"
    },
    {
     "name": "stdout",
     "output_type": "stream",
     "text": [
      "Drama (513)\n",
      "Action (303)\n",
      "Comedy (279)\n",
      "Adventure (259)\n",
      "Thriller (195)\n",
      "Crime (150)\n",
      "Romance (141)\n",
      "Sci-Fi (120)\n",
      "Horror (119)\n",
      "Mystery (106)\n",
      "Fantasy (101)\n",
      "Biography (81)\n",
      "Family (51)\n",
      "Animation (49)\n",
      "History (29)\n",
      "Sport (18)\n",
      "Music (16)\n",
      "War (13)\n",
      "Western (7)\n",
      "Musical (5)\n"
     ]
    }
   ],
   "source": [
    "// DONE student\n",
    "rddMovies.flatMap(m => m.genres)\n",
    "         .map(m => (m,1))\n",
    "         .reduceByKey(_+_)\n",
    "         .sortBy(m => m._2,false)\n",
    "         .map(m => m._1 + \" (\" + m._2 +\")\")\n",
    "         .foreach(println)"
   ]
  },
  {
   "cell_type": "markdown",
   "metadata": {},
   "source": [
    "### Ex4 - Print the average number of votes per year, order by descreasing number of votes\n",
    "\n",
    "Goal:\n",
    "\n",
    "* Print the average votes per year\n",
    "* This output is sorted by descreasing votes\n",
    "\n",
    "Output example:\n",
    "\n",
    "```plain\n",
    "...\n",
    "year: 2008 average votes: 275505.3846153846\n",
    "year: 2009 average votes: 255780.64705882352\n",
    "year: 2010 average votes: 252782.31666666668\n",
    "...\n",
    "```\n",
    "\n",
    "Theory:\n",
    "\n",
    "We are going to use `reduceByKey()` which has the following signature `reduceByKey(func: (V, V) => V): RDD[(K, V)]`. \n",
    "\n",
    "`reduceByKey()` works on a RDD like `RDD[(K,V)]` (i.e. sort of \"list of key/values pairs\"). \n",
    "\n",
    "`reduceByKey()` takes a function that, from two elements, returns one i.e. the `func: (V, V) => V` in the signature.\n",
    "The difference with `reduce()` is that `reduceByKey()` uses two elements sharing the same key.\n",
    "\n",
    "For example (pseudo code):\n",
    "\n",
    "```plain\n",
    " year, count\n",
    "(2010, 2)\n",
    "(2011, 3)\n",
    "(2011, 4)\n",
    "(2010, 8)\n",
    "// use reduceByKey((count1, count2) => count1+count2)\n",
    "> (2010, 10)\n",
    "> (2011, 7)\n",
    "```\n",
    "\n",
    "Note: here `count` is just an Int but it can be anything e.g. `Movie`\n",
    "\n",
    "Steps:\n",
    "\n",
    "* To compute the average we need the **total sum** of votes per year and the **count** of all the movies per year\n",
    "* Use `map()` to create an RDD made of `(year, (votes, 1))`. Like a word count we use the `1` to be able to count the number of movies per year\n",
    "* Use `reduceByKey()` to sum the votes and to count the number of movies per year. The output should look like: `(year, (totalVotes, moviePerYearCount))`\n",
    "* Find a way to compute the average using the result from the last operation\n",
    "* Sort by number of votes decreasing"
   ]
  },
  {
   "cell_type": "code",
   "execution_count": 11,
   "metadata": {},
   "outputs": [
    {
     "data": {
      "text/html": [
       "<div>\n",
       "  <span style=\"float: left;\">map at cmd10.sc:1</span>\n",
       "</div>\n"
      ]
     },
     "metadata": {},
     "output_type": "display_data"
    },
    {
     "data": {
      "text/html": [
       "<div class=\"progress\">\n",
       "  <div class=\"progress-bar\" role=\"progressbar\" style=\"background-color: blue; width: 100%; word-wrap: normal; white-space: nowrap; text-align: center; color: white\" aria-valuenow=\"100\" aria-valuemin=\"0\" aria-valuemax=\"100\">\n",
       "    1 / 1\n",
       "  </div>\n",
       "  <div class=\"progress-bar\" role=\"progressbar\" style=\"background-color: red; width: 0%\" aria-valuenow=\"0\" aria-valuemin=\"0\" aria-valuemax=\"100\"></div>\n",
       "</div>\n"
      ]
     },
     "metadata": {},
     "output_type": "display_data"
    },
    {
     "data": {
      "text/html": [
       "<div>\n",
       "  <span style=\"float: left;\">sortBy at cmd10.sc:4</span>\n",
       "</div>\n"
      ]
     },
     "metadata": {},
     "output_type": "display_data"
    },
    {
     "data": {
      "text/html": [
       "<div class=\"progress\">\n",
       "  <div class=\"progress-bar\" role=\"progressbar\" style=\"background-color: blue; width: 100%; word-wrap: normal; white-space: nowrap; text-align: center; color: white\" aria-valuenow=\"100\" aria-valuemin=\"0\" aria-valuemax=\"100\">\n",
       "    1 / 1\n",
       "  </div>\n",
       "  <div class=\"progress-bar\" role=\"progressbar\" style=\"background-color: red; width: 0%\" aria-valuenow=\"0\" aria-valuemin=\"0\" aria-valuemax=\"100\"></div>\n",
       "</div>\n"
      ]
     },
     "metadata": {},
     "output_type": "display_data"
    },
    {
     "data": {
      "text/html": [
       "<div>\n",
       "  <span style=\"float: left;\">foreach at cmd10.sc:6</span>\n",
       "</div>\n"
      ]
     },
     "metadata": {},
     "output_type": "display_data"
    },
    {
     "data": {
      "text/html": [
       "<div class=\"progress\">\n",
       "  <div class=\"progress-bar\" role=\"progressbar\" style=\"background-color: blue; width: 100%; word-wrap: normal; white-space: nowrap; text-align: center; color: white\" aria-valuenow=\"100\" aria-valuemin=\"0\" aria-valuemax=\"100\">\n",
       "    1 / 1\n",
       "  </div>\n",
       "  <div class=\"progress-bar\" role=\"progressbar\" style=\"background-color: red; width: 0%\" aria-valuenow=\"0\" aria-valuemin=\"0\" aria-valuemax=\"100\"></div>\n",
       "</div>\n"
      ]
     },
     "metadata": {},
     "output_type": "display_data"
    },
    {
     "name": "stdout",
     "output_type": "stream",
     "text": [
      "year: 2012\tavarage votes: 285226.09375\n",
      "year: 2008\tavarage votes: 275505.3846153846\n",
      "year: 2006\tavarage votes: 269289.95454545453\n",
      "year: 2009\tavarage votes: 255780.64705882352\n",
      "year: 2010\tavarage votes: 252782.31666666668\n",
      "year: 2007\tavarage votes: 244331.03773584907\n",
      "year: 2011\tavarage votes: 240790.3015873016\n",
      "year: 2013\tavarage votes: 219049.64835164836\n",
      "year: 2014\tavarage votes: 203930.22448979592\n",
      "year: 2015\tavarage votes: 115726.22047244094\n",
      "year: 2016\tavarage votes: 48591.75420875421\n"
     ]
    }
   ],
   "source": [
    "// DONE student\n",
    "rddMovies.map(m => (m.year, (m.votes, 1)))\n",
    "         .reduceByKey((m1, m2) => (m1._1 + m2._1, m1._2 + m2._2))\n",
    "         .map(m => (m._1, m._2._1 / m._2._2.toDouble))\n",
    "         .sortBy(m => m._2, false)\n",
    "         .map(m => \"year: \" + m._1 + \"\\tavarage votes: \" + m._2)\n",
    "         .foreach(println)"
   ]
  },
  {
   "cell_type": "markdown",
   "metadata": {},
   "source": [
    "## Part 2 - Create a basic Inverted Index\n",
    "\n",
    "The goal of this part is to show you how to create an inverted index that indexes words from all the movies' description."
   ]
  },
  {
   "cell_type": "markdown",
   "metadata": {},
   "source": [
    "Goal:\n",
    "\n",
    "Using `rddMovies` create an inverted that use the movies' description:\n",
    "\n",
    "```plain\n",
    "Movie(1,Guardians of the Galaxy,List(Action, Adventure, Sci-Fi),A group of intergalactic [...] of the universe.,James Gunn,List(Chris Pratt, Vin Diesel, Bradley Cooper, Zoe Saldana),2014,8.1,757074.0)\n",
    "Movie(2,Prometheus,List(Adventure, Mystery, Sci-Fi),Following clues to the origin[...] not alone.,Ridley Scott,List(Noomi Rapace, Logan Marshall-Green, Michael Fassbender, Charlize Theron),2012,7.0,485820.0)\n",
    "Movie(3,Split,List(Horror, Thriller),Three girls are kidnapped [...] a frightful new 24th.,M. Night Shyamalan,List(James McAvoy, Anya Taylor-Joy, Haley Lu Richardson, Jessica Sula),2016,7.3,157606.0)\n",
    "...\n",
    "```\n",
    "\n",
    "and extract them to produce an inverted index like:\n",
    "\n",
    "```plain\n",
    "\"reunion\" -> (640, 697)\n",
    "\"runner\" -> (338)\n",
    "\"vietnam\" -> (797, 947, 983)\n",
    "...\n",
    "```\n",
    "\n",
    "Steps\n",
    "\n",
    "* Tokenize description i.e. produce an RDD like (movId, words)\n",
    "* Normalize words e.g. toLowercase, trimming,..\n",
    "* Remove stopwords (ignored here)\n",
    "* Apply stemming (ignored here)\n",
    "* Group by document id"
   ]
  },
  {
   "cell_type": "code",
   "execution_count": 12,
   "metadata": {},
   "outputs": [
    {
     "data": {
      "text/plain": [
       "defined \u001b[32mfunction\u001b[39m \u001b[36mcreateInvertedIndex\u001b[39m"
      ]
     },
     "execution_count": 12,
     "metadata": {},
     "output_type": "execute_result"
    }
   ],
   "source": [
    "/**\n",
    "    * Goal: create an inverted index that allows searching a word\n",
    "    * in the movies description.\n",
    "    * Features:\n",
    "    * - case insensitive\n",
    "    *\n",
    "    */\n",
    "    // TODO student\n",
    "    // In this first function we are going to tokenize and order the descriptions of the movies, then return these data. We are not going to apply any search right now.\n",
    "    def createInvertedIndex(movies: RDD[Movie]): RDD[(String, Iterable[Int])] = {\n",
    "        // Define helper functions directly inside this function. In scala you can declare inner functions\n",
    "        // and use them only inside the function they were declared. Useful to encapsulate/restrict \n",
    "        // their use outside this function.\n",
    "        \n",
    "        // Split the given string into an array of words (without any formatting), then return it.\n",
    "        def tokenizeDescription(description: String): Seq[String] = {\n",
    "            description.split(\" \")\n",
    "        }\n",
    "        \n",
    "        // Remove the blank spaces (trim) in the given word, transform it in lowercase, then return it.\n",
    "        def normalizeWord(word: String): String = {\n",
    "            word.trim().toLowerCase()\n",
    "        }\n",
    "        \n",
    "        // For the sake of simplicity let's ignore the implementation (in a real case we would return true if w is a stopword, otherwise false).\n",
    "        // TODO student nothing here but still call this function in your invertedIndex creation process.\n",
    "        def isStopWord(w: String): Boolean = {\n",
    "          false\n",
    "        }\n",
    "        \n",
    "        // For the sake of simplicity let's ignore the implementation (in a real case we would apply stemming to w and return the result, e.g. w=automation -> w=automat).\n",
    "        // TODO student nothing here but still call this function in your invertedIndex creation process.\n",
    "        def applyStemming(w: String): String = {\n",
    "          w\n",
    "        }\n",
    "      \n",
    "       // TODO student\n",
    "       // Here we are going to work on the movies RDD, by tokenizing and normalizing the description of every movie, then by building a key-value object that contains the tokens as keys, and the IDs of the movies as values\n",
    "       // (see the example on 4).\n",
    "       // The goal here is to do everything by chaining the possible transformations and actions of Spark.\n",
    "       // Possible steps:\n",
    "       //   1) What we first want to do here is applying the 4 previous methods on any movie's description. Be aware of the fact that we also want to keep the IDs of the movies.\n",
    "       //   2) For each tokenized word, create a tuple as (word, id), where id is the current movie id\n",
    "       //        [\n",
    "       //          (\"toto\", 120), (\"mange\", 120), (\"des\", 120), (\"pommes\", 120),\n",
    "       //          (\"toto\", 121), (\"lance\", 121), (\"des\", 121), (\"photocopies\", 121)\n",
    "       //        ]\n",
    "       //      Hint: you can use a map function inside another map function.\n",
    "       //   3) We finally need to find a way to remove duplicated keys and thus only having one entry per key, with all the linked IDs as values. For example:\n",
    "       //        [\n",
    "       //          (\"toto\", [120, 121]),\n",
    "       //          (\"mange\", [120]),\n",
    "       //          ...\n",
    "       //        ]        \n",
    "       val invertedIndex = rddMovies\n",
    "        .flatMap(m => tokenizeDescription(m.description)\n",
    "        .map(m => applyStemming(m)) //Juste ?\n",
    "        .filter(m => !isStopWord(m)) // Juste ?\n",
    "        .map(a => (a, m.id)))\n",
    "        .groupByKey()\n",
    "        \n",
    "\n",
    "       // Return the new-built inverted index.\n",
    "       invertedIndex\n",
    "  }"
   ]
  },
  {
   "cell_type": "markdown",
   "metadata": {},
   "source": [
    "Now we would like to use our inverted index to display the top N most used words in the descriptions of movies."
   ]
  },
  {
   "cell_type": "code",
   "execution_count": 13,
   "metadata": {},
   "outputs": [
    {
     "data": {
      "text/plain": [
       "defined \u001b[32mfunction\u001b[39m \u001b[36mtopN\u001b[39m"
      ]
     },
     "execution_count": 13,
     "metadata": {},
     "output_type": "execute_result"
    }
   ],
   "source": [
    "// DONE student\n",
    "// Here we are going to operate the analytic and display its result on a given inverted index (that will be obtained from the previous function).\n",
    "def topN(invertedIndex: RDD[(String, Iterable[Int])], N: Int): Unit = {\n",
    "  // DONE student\n",
    "  // We are going to work on the given invertedIndex array to do our analytic:\n",
    "  //   1) Find a way to get the number of movie in which a word appears.\n",
    "  //   2) Keep only the top N words and their occurence.\n",
    "  val topMovies = invertedIndex.map(m => (m._1, m._2.size))\n",
    "                               .sortBy(m => m._2,false)\n",
    "                               .take(N)\n",
    "  \n",
    "  // Print the words and the number of descriptions in which they appear.\n",
    "  println(\"Top '\" + N + \"' most used words\")\n",
    "  topMovies.foreach(println)\n",
    "}"
   ]
  },
  {
   "cell_type": "code",
   "execution_count": 14,
   "metadata": {},
   "outputs": [
    {
     "data": {
      "text/html": [
       "<div>\n",
       "  <span style=\"float: left;\">flatMap at cmd11.sc:47</span>\n",
       "</div>\n"
      ]
     },
     "metadata": {},
     "output_type": "display_data"
    },
    {
     "data": {
      "text/html": [
       "<div class=\"progress\">\n",
       "  <div class=\"progress-bar\" role=\"progressbar\" style=\"background-color: blue; width: 100%; word-wrap: normal; white-space: nowrap; text-align: center; color: white\" aria-valuenow=\"100\" aria-valuemin=\"0\" aria-valuemax=\"100\">\n",
       "    1 / 1\n",
       "  </div>\n",
       "  <div class=\"progress-bar\" role=\"progressbar\" style=\"background-color: red; width: 0%\" aria-valuenow=\"0\" aria-valuemin=\"0\" aria-valuemax=\"100\"></div>\n",
       "</div>\n"
      ]
     },
     "metadata": {},
     "output_type": "display_data"
    },
    {
     "data": {
      "text/html": [
       "<div>\n",
       "  <span style=\"float: left;\">take at cmd13.sc:4</span>\n",
       "</div>\n"
      ]
     },
     "metadata": {},
     "output_type": "display_data"
    },
    {
     "data": {
      "text/html": [
       "<div class=\"progress\">\n",
       "  <div class=\"progress-bar\" role=\"progressbar\" style=\"background-color: blue; width: 100%; word-wrap: normal; white-space: nowrap; text-align: center; color: white\" aria-valuenow=\"100\" aria-valuemin=\"0\" aria-valuemax=\"100\">\n",
       "    1 / 1\n",
       "  </div>\n",
       "  <div class=\"progress-bar\" role=\"progressbar\" style=\"background-color: red; width: 0%\" aria-valuenow=\"0\" aria-valuemin=\"0\" aria-valuemax=\"100\"></div>\n",
       "</div>\n"
      ]
     },
     "metadata": {},
     "output_type": "display_data"
    },
    {
     "name": "stdout",
     "output_type": "stream",
     "text": [
      "Christine: 824\n",
      "divorcee: 63\n",
      "House: 343, 454\n"
     ]
    },
    {
     "data": {
      "text/html": [
       "<div>\n",
       "  <span style=\"float: left;\">sortBy at cmd12.sc:7</span>\n",
       "</div>\n"
      ]
     },
     "metadata": {},
     "output_type": "display_data"
    },
    {
     "data": {
      "text/html": [
       "<div class=\"progress\">\n",
       "  <div class=\"progress-bar\" role=\"progressbar\" style=\"background-color: blue; width: 100%; word-wrap: normal; white-space: nowrap; text-align: center; color: white\" aria-valuenow=\"100\" aria-valuemin=\"0\" aria-valuemax=\"100\">\n",
       "    1 / 1\n",
       "  </div>\n",
       "  <div class=\"progress-bar\" role=\"progressbar\" style=\"background-color: red; width: 0%\" aria-valuenow=\"0\" aria-valuemin=\"0\" aria-valuemax=\"100\"></div>\n",
       "</div>\n"
      ]
     },
     "metadata": {},
     "output_type": "display_data"
    },
    {
     "data": {
      "text/html": [
       "<div>\n",
       "  <span style=\"float: left;\">take at cmd12.sc:8</span>\n",
       "</div>\n"
      ]
     },
     "metadata": {},
     "output_type": "display_data"
    },
    {
     "data": {
      "text/html": [
       "<div class=\"progress\">\n",
       "  <div class=\"progress-bar\" role=\"progressbar\" style=\"background-color: blue; width: 100%; word-wrap: normal; white-space: nowrap; text-align: center; color: white\" aria-valuenow=\"100\" aria-valuemin=\"0\" aria-valuemax=\"100\">\n",
       "    1 / 1\n",
       "  </div>\n",
       "  <div class=\"progress-bar\" role=\"progressbar\" style=\"background-color: red; width: 0%\" aria-valuenow=\"0\" aria-valuemin=\"0\" aria-valuemax=\"100\"></div>\n",
       "</div>\n"
      ]
     },
     "metadata": {},
     "output_type": "display_data"
    },
    {
     "name": "stdout",
     "output_type": "stream",
     "text": [
      "Top '10' most used words\n",
      "(a,1284)\n",
      "(the,1240)\n",
      "(to,933)\n",
      "(of,806)\n",
      "(and,712)\n",
      "(in,495)\n",
      "(his,479)\n",
      "(A,342)\n",
      "(is,294)\n",
      "(with,263)\n"
     ]
    },
    {
     "data": {
      "text/plain": [
       "\u001b[36minvertedIndex\u001b[39m: \u001b[32mRDD\u001b[39m[(\u001b[32mString\u001b[39m, \u001b[32mIterable\u001b[39m[\u001b[32mInt\u001b[39m])] = ShuffledRDD[36] at groupByKey at cmd11.sc:47"
      ]
     },
     "execution_count": 14,
     "metadata": {},
     "output_type": "execute_result"
    }
   ],
   "source": [
    "// Code used to test your implementation.\n",
    "// Create the inverted index of the movies.\n",
    "val invertedIndex = createInvertedIndex(rddMovies)\n",
    "\n",
    "// Show how the inverted index looks like.\n",
    "invertedIndex.take(3).foreach(x => println(x._1 + \": \" + x._2.mkString(\", \")))\n",
    "\n",
    "// Show the top 10 most used words.\n",
    "topN(invertedIndex, 10)"
   ]
  },
  {
   "cell_type": "markdown",
   "metadata": {},
   "source": [
    "## Part 3 - Dataframe and SparkSQL\n",
    "\n",
    "For all of the following exercices, write your queries in two different ways: \n",
    "\n",
    "* using the sql literal \n",
    "* using DataFrame API (select, where, etc.)"
   ]
  },
  {
   "cell_type": "code",
   "execution_count": 15,
   "metadata": {},
   "outputs": [],
   "source": [
    "// Register the DataFrame as a SQL temporary view\n",
    "moviesDF.createOrReplaceTempView(\"movie\")"
   ]
  },
  {
   "cell_type": "markdown",
   "metadata": {},
   "source": [
    "### Exercice 1 - Use the moviesDF DataFrame\n",
    "\n",
    "* Use the dataframe `moviesDF` already created when loading the data \n",
    "* Print the schema of moviesDF\n",
    "* Show the first 10 lines of the moviesDF as a table"
   ]
  },
  {
   "cell_type": "code",
   "execution_count": 16,
   "metadata": {},
   "outputs": [
    {
     "name": "stdout",
     "output_type": "stream",
     "text": [
      "root\n",
      " |-- Rank: integer (nullable = true)\n",
      " |-- Title: string (nullable = true)\n",
      " |-- Genre: string (nullable = true)\n",
      " |-- Description: string (nullable = true)\n",
      " |-- Director: string (nullable = true)\n",
      " |-- Actors: string (nullable = true)\n",
      " |-- Year: integer (nullable = true)\n",
      " |-- Runtime (Minutes): integer (nullable = true)\n",
      " |-- Rating: double (nullable = true)\n",
      " |-- Votes: integer (nullable = true)\n",
      " |-- Revenue (Millions): double (nullable = true)\n",
      " |-- Metascore: integer (nullable = true)\n",
      "\n"
     ]
    },
    {
     "data": {
      "text/html": [
       "<div>\n",
       "  <span style=\"float: left;\">show at cmd15.sc:2</span>\n",
       "</div>\n"
      ]
     },
     "metadata": {},
     "output_type": "display_data"
    },
    {
     "data": {
      "text/html": [
       "<div class=\"progress\">\n",
       "  <div class=\"progress-bar\" role=\"progressbar\" style=\"background-color: blue; width: 100%; word-wrap: normal; white-space: nowrap; text-align: center; color: white\" aria-valuenow=\"100\" aria-valuemin=\"0\" aria-valuemax=\"100\">\n",
       "    1 / 1\n",
       "  </div>\n",
       "  <div class=\"progress-bar\" role=\"progressbar\" style=\"background-color: red; width: 0%\" aria-valuenow=\"0\" aria-valuemin=\"0\" aria-valuemax=\"100\"></div>\n",
       "</div>\n"
      ]
     },
     "metadata": {},
     "output_type": "display_data"
    },
    {
     "name": "stdout",
     "output_type": "stream",
     "text": [
      "+----+--------------------+--------------------+--------------------+--------------------+--------------------+----+-----------------+------+------+------------------+---------+\n",
      "|Rank|               Title|               Genre|         Description|            Director|              Actors|Year|Runtime (Minutes)|Rating| Votes|Revenue (Millions)|Metascore|\n",
      "+----+--------------------+--------------------+--------------------+--------------------+--------------------+----+-----------------+------+------+------------------+---------+\n",
      "|   1|Guardians of the ...|Action,Adventure,...|A group of interg...|          James Gunn|Chris Pratt, Vin ...|2014|              121|   8.1|757074|            333.13|       76|\n",
      "|   2|          Prometheus|Adventure,Mystery...|Following clues t...|        Ridley Scott|Noomi Rapace, Log...|2012|              124|   7.0|485820|            126.46|       65|\n",
      "|   3|               Split|     Horror,Thriller|Three girls are k...|  M. Night Shyamalan|James McAvoy, Any...|2016|              117|   7.3|157606|            138.12|       62|\n",
      "|   4|                Sing|Animation,Comedy,...|In a city of huma...|Christophe Lourdelet|Matthew McConaugh...|2016|              108|   7.2| 60545|            270.32|       59|\n",
      "|   5|       Suicide Squad|Action,Adventure,...|A secret governme...|          David Ayer|Will Smith, Jared...|2016|              123|   6.2|393727|            325.02|       40|\n",
      "|   6|      The Great Wall|Action,Adventure,...|European mercenar...|         Yimou Zhang|Matt Damon, Tian ...|2016|              103|   6.1| 56036|             45.13|       42|\n",
      "|   7|          La La Land|  Comedy,Drama,Music|A jazz pianist fa...|     Damien Chazelle|Ryan Gosling, Emm...|2016|              128|   8.3|258682|            151.06|       93|\n",
      "|   8|            Mindhorn|              Comedy|A has-been actor ...|          Sean Foley|Essie Davis, Andr...|2016|               89|   6.4|  2490|              null|       71|\n",
      "|   9|  The Lost City of Z|Action,Adventure,...|A true-life drama...|          James Gray|Charlie Hunnam, R...|2016|              141|   7.1|  7188|              8.01|       78|\n",
      "|  10|          Passengers|Adventure,Drama,R...|A spacecraft trav...|       Morten Tyldum|Jennifer Lawrence...|2016|              116|   7.0|192177|            100.01|       41|\n",
      "+----+--------------------+--------------------+--------------------+--------------------+--------------------+----+-----------------+------+------+------------------+---------+\n",
      "only showing top 10 rows\n",
      "\n"
     ]
    },
    {
     "data": {
      "text/html": [
       "<div>\n",
       "  <span style=\"float: left;\">show at cmd15.sc:6</span>\n",
       "</div>\n"
      ]
     },
     "metadata": {},
     "output_type": "display_data"
    },
    {
     "data": {
      "text/html": [
       "<div class=\"progress\">\n",
       "  <div class=\"progress-bar\" role=\"progressbar\" style=\"background-color: blue; width: 100%; word-wrap: normal; white-space: nowrap; text-align: center; color: white\" aria-valuenow=\"100\" aria-valuemin=\"0\" aria-valuemax=\"100\">\n",
       "    1 / 1\n",
       "  </div>\n",
       "  <div class=\"progress-bar\" role=\"progressbar\" style=\"background-color: red; width: 0%\" aria-valuenow=\"0\" aria-valuemin=\"0\" aria-valuemax=\"100\"></div>\n",
       "</div>\n"
      ]
     },
     "metadata": {},
     "output_type": "display_data"
    },
    {
     "data": {
      "text/html": [
       "<div>\n",
       "  <span style=\"float: left;\">show at cmd15.sc:6</span>\n",
       "</div>\n"
      ]
     },
     "metadata": {},
     "output_type": "display_data"
    },
    {
     "data": {
      "text/html": [
       "<div class=\"progress\">\n",
       "  <div class=\"progress-bar\" role=\"progressbar\" style=\"background-color: blue; width: 100%; word-wrap: normal; white-space: nowrap; text-align: center; color: white\" aria-valuenow=\"100\" aria-valuemin=\"0\" aria-valuemax=\"100\">\n",
       "    1 / 1\n",
       "  </div>\n",
       "  <div class=\"progress-bar\" role=\"progressbar\" style=\"background-color: red; width: 0%\" aria-valuenow=\"0\" aria-valuemin=\"0\" aria-valuemax=\"100\"></div>\n",
       "</div>\n"
      ]
     },
     "metadata": {},
     "output_type": "display_data"
    },
    {
     "name": "stdout",
     "output_type": "stream",
     "text": [
      "+----+--------------------+--------------------+--------------------+--------------------+--------------------+----+-----------------+------+------+------------------+---------+\n",
      "|Rank|               Title|               Genre|         Description|            Director|              Actors|Year|Runtime (Minutes)|Rating| Votes|Revenue (Millions)|Metascore|\n",
      "+----+--------------------+--------------------+--------------------+--------------------+--------------------+----+-----------------+------+------+------------------+---------+\n",
      "|   1|Guardians of the ...|Action,Adventure,...|A group of interg...|          James Gunn|Chris Pratt, Vin ...|2014|              121|   8.1|757074|            333.13|       76|\n",
      "|   2|          Prometheus|Adventure,Mystery...|Following clues t...|        Ridley Scott|Noomi Rapace, Log...|2012|              124|   7.0|485820|            126.46|       65|\n",
      "|   3|               Split|     Horror,Thriller|Three girls are k...|  M. Night Shyamalan|James McAvoy, Any...|2016|              117|   7.3|157606|            138.12|       62|\n",
      "|   4|                Sing|Animation,Comedy,...|In a city of huma...|Christophe Lourdelet|Matthew McConaugh...|2016|              108|   7.2| 60545|            270.32|       59|\n",
      "|   5|       Suicide Squad|Action,Adventure,...|A secret governme...|          David Ayer|Will Smith, Jared...|2016|              123|   6.2|393727|            325.02|       40|\n",
      "|   6|      The Great Wall|Action,Adventure,...|European mercenar...|         Yimou Zhang|Matt Damon, Tian ...|2016|              103|   6.1| 56036|             45.13|       42|\n",
      "|   7|          La La Land|  Comedy,Drama,Music|A jazz pianist fa...|     Damien Chazelle|Ryan Gosling, Emm...|2016|              128|   8.3|258682|            151.06|       93|\n",
      "|   8|            Mindhorn|              Comedy|A has-been actor ...|          Sean Foley|Essie Davis, Andr...|2016|               89|   6.4|  2490|              null|       71|\n",
      "|   9|  The Lost City of Z|Action,Adventure,...|A true-life drama...|          James Gray|Charlie Hunnam, R...|2016|              141|   7.1|  7188|              8.01|       78|\n",
      "|  10|          Passengers|Adventure,Drama,R...|A spacecraft trav...|       Morten Tyldum|Jennifer Lawrence...|2016|              116|   7.0|192177|            100.01|       41|\n",
      "+----+--------------------+--------------------+--------------------+--------------------+--------------------+----+-----------------+------+------+------------------+---------+\n",
      "\n"
     ]
    }
   ],
   "source": [
    "//DONE students\n",
    "\n",
    "//Dataframe API\n",
    "moviesDF.printSchema()\n",
    "moviesDF.show(10)\n",
    "\n",
    "//SQL literal\n",
    "spark.sql(\n",
    "    \"\"\"\n",
    "    SELECT * \n",
    "    FROM movie \n",
    "    LIMIT 10\n",
    "    \"\"\"\n",
    ")\n",
    "     .show()"
   ]
  },
  {
   "cell_type": "markdown",
   "metadata": {},
   "source": [
    "### Exercice 2 - Get the movies (id, title, votes, director) whose title contains \"City\" \n",
    "\n",
    "Apply two different ways: \n",
    "\n",
    "* use the sql literal \n",
    "* use DataFrame API (select, where, etc.)\n"
   ]
  },
  {
   "cell_type": "code",
   "execution_count": 17,
   "metadata": {},
   "outputs": [
    {
     "data": {
      "text/html": [
       "<div>\n",
       "  <span style=\"float: left;\">show at cmd16.sc:3</span>\n",
       "</div>\n"
      ]
     },
     "metadata": {},
     "output_type": "display_data"
    },
    {
     "data": {
      "text/html": [
       "<div class=\"progress\">\n",
       "  <div class=\"progress-bar\" role=\"progressbar\" style=\"background-color: blue; width: 100%; word-wrap: normal; white-space: nowrap; text-align: center; color: white\" aria-valuenow=\"100\" aria-valuemin=\"0\" aria-valuemax=\"100\">\n",
       "    1 / 1\n",
       "  </div>\n",
       "  <div class=\"progress-bar\" role=\"progressbar\" style=\"background-color: red; width: 0%\" aria-valuenow=\"0\" aria-valuemin=\"0\" aria-valuemax=\"100\"></div>\n",
       "</div>\n"
      ]
     },
     "metadata": {},
     "output_type": "display_data"
    },
    {
     "name": "stdout",
     "output_type": "stream",
     "text": [
      "+----+-------------------------------------+------+--------------------+\n",
      "|rank|title                                |votes |director            |\n",
      "+----+-------------------------------------+------+--------------------+\n",
      "|9   |The Lost City of Z                   |7188  |James Gray          |\n",
      "|427 |Sin City: A Dame to Kill For         |122185|Frank Miller        |\n",
      "|506 |City of Tiny Lights                  |291   |Pete Travis         |\n",
      "|684 |The Mortal Instruments: City of Bones|112313|Harald Zwart        |\n",
      "|894 |Sex and the City                     |102547|Michael Patrick King|\n",
      "|953 |Sex and the City 2                   |62403 |Michael Patrick King|\n",
      "+----+-------------------------------------+------+--------------------+\n",
      "\n"
     ]
    },
    {
     "data": {
      "text/html": [
       "<div>\n",
       "  <span style=\"float: left;\">show at cmd16.sc:13</span>\n",
       "</div>\n"
      ]
     },
     "metadata": {},
     "output_type": "display_data"
    },
    {
     "data": {
      "text/html": [
       "<div class=\"progress\">\n",
       "  <div class=\"progress-bar\" role=\"progressbar\" style=\"background-color: blue; width: 100%; word-wrap: normal; white-space: nowrap; text-align: center; color: white\" aria-valuenow=\"100\" aria-valuemin=\"0\" aria-valuemax=\"100\">\n",
       "    1 / 1\n",
       "  </div>\n",
       "  <div class=\"progress-bar\" role=\"progressbar\" style=\"background-color: red; width: 0%\" aria-valuenow=\"0\" aria-valuemin=\"0\" aria-valuemax=\"100\"></div>\n",
       "</div>\n"
      ]
     },
     "metadata": {},
     "output_type": "display_data"
    },
    {
     "name": "stdout",
     "output_type": "stream",
     "text": [
      "+---+-------------------------------------+------+--------------------+\n",
      "|id |title                                |votes |director            |\n",
      "+---+-------------------------------------+------+--------------------+\n",
      "|9  |The Lost City of Z                   |7188  |James Gray          |\n",
      "|427|Sin City: A Dame to Kill For         |122185|Frank Miller        |\n",
      "|506|City of Tiny Lights                  |291   |Pete Travis         |\n",
      "|684|The Mortal Instruments: City of Bones|112313|Harald Zwart        |\n",
      "|894|Sex and the City                     |102547|Michael Patrick King|\n",
      "|953|Sex and the City 2                   |62403 |Michael Patrick King|\n",
      "+---+-------------------------------------+------+--------------------+\n",
      "\n"
     ]
    }
   ],
   "source": [
    "// Done students\n",
    "\n",
    "//Dataframe API\n",
    "moviesDF.select(\"rank\",\"title\",\"votes\",\"director\")\n",
    "        .where(col(\"title\").contains(\"City\"))\n",
    "        .show(false)\n",
    "\n",
    "//SQL literal\n",
    "spark.sql(\n",
    "    \"\"\"\n",
    "    SELECT movie.Rank as id, movie.title,movie.votes,movie.director \n",
    "    FROM movie \n",
    "    WHERE movie.title LIKE '%City%'\n",
    "    \"\"\"\n",
    ")\n",
    "     .show(false)"
   ]
  },
  {
   "cell_type": "markdown",
   "metadata": {},
   "source": [
    "### Exercice 3 - Get the number of movies which have a number of votes between 500 and 2000 (inclusive range)"
   ]
  },
  {
   "cell_type": "code",
   "execution_count": 18,
   "metadata": {},
   "outputs": [
    {
     "data": {
      "text/html": [
       "<div>\n",
       "  <span style=\"float: left;\">count at cmd17.sc:2</span>\n",
       "</div>\n"
      ]
     },
     "metadata": {},
     "output_type": "display_data"
    },
    {
     "data": {
      "text/html": [
       "<div class=\"progress\">\n",
       "  <div class=\"progress-bar\" role=\"progressbar\" style=\"background-color: blue; width: 100%; word-wrap: normal; white-space: nowrap; text-align: center; color: white\" aria-valuenow=\"100\" aria-valuemin=\"0\" aria-valuemax=\"100\">\n",
       "    1 / 1\n",
       "  </div>\n",
       "  <div class=\"progress-bar\" role=\"progressbar\" style=\"background-color: red; width: 0%\" aria-valuenow=\"0\" aria-valuemin=\"0\" aria-valuemax=\"100\"></div>\n",
       "</div>\n"
      ]
     },
     "metadata": {},
     "output_type": "display_data"
    },
    {
     "data": {
      "text/html": [
       "<div>\n",
       "  <span style=\"float: left;\">count at cmd17.sc:2</span>\n",
       "</div>\n"
      ]
     },
     "metadata": {},
     "output_type": "display_data"
    },
    {
     "data": {
      "text/html": [
       "<div class=\"progress\">\n",
       "  <div class=\"progress-bar\" role=\"progressbar\" style=\"background-color: blue; width: 100%; word-wrap: normal; white-space: nowrap; text-align: center; color: white\" aria-valuenow=\"100\" aria-valuemin=\"0\" aria-valuemax=\"100\">\n",
       "    1 / 1\n",
       "  </div>\n",
       "  <div class=\"progress-bar\" role=\"progressbar\" style=\"background-color: red; width: 0%\" aria-valuenow=\"0\" aria-valuemin=\"0\" aria-valuemax=\"100\"></div>\n",
       "</div>\n"
      ]
     },
     "metadata": {},
     "output_type": "display_data"
    },
    {
     "name": "stdout",
     "output_type": "stream",
     "text": [
      "Number of movies which have a number of votes between 500 and 2000 : 34\n"
     ]
    },
    {
     "data": {
      "text/html": [
       "<div>\n",
       "  <span style=\"float: left;\">show at cmd17.sc:8</span>\n",
       "</div>\n"
      ]
     },
     "metadata": {},
     "output_type": "display_data"
    },
    {
     "data": {
      "text/html": [
       "<div class=\"progress\">\n",
       "  <div class=\"progress-bar\" role=\"progressbar\" style=\"background-color: blue; width: 100%; word-wrap: normal; white-space: nowrap; text-align: center; color: white\" aria-valuenow=\"100\" aria-valuemin=\"0\" aria-valuemax=\"100\">\n",
       "    1 / 1\n",
       "  </div>\n",
       "  <div class=\"progress-bar\" role=\"progressbar\" style=\"background-color: red; width: 0%\" aria-valuenow=\"0\" aria-valuemin=\"0\" aria-valuemax=\"100\"></div>\n",
       "</div>\n"
      ]
     },
     "metadata": {},
     "output_type": "display_data"
    },
    {
     "data": {
      "text/html": [
       "<div>\n",
       "  <span style=\"float: left;\">show at cmd17.sc:8</span>\n",
       "</div>\n"
      ]
     },
     "metadata": {},
     "output_type": "display_data"
    },
    {
     "data": {
      "text/html": [
       "<div class=\"progress\">\n",
       "  <div class=\"progress-bar\" role=\"progressbar\" style=\"background-color: blue; width: 100%; word-wrap: normal; white-space: nowrap; text-align: center; color: white\" aria-valuenow=\"100\" aria-valuemin=\"0\" aria-valuemax=\"100\">\n",
       "    1 / 1\n",
       "  </div>\n",
       "  <div class=\"progress-bar\" role=\"progressbar\" style=\"background-color: red; width: 0%\" aria-valuenow=\"0\" aria-valuemin=\"0\" aria-valuemax=\"100\"></div>\n",
       "</div>\n"
      ]
     },
     "metadata": {},
     "output_type": "display_data"
    },
    {
     "name": "stdout",
     "output_type": "stream",
     "text": [
      "+--------+\n",
      "|count(1)|\n",
      "+--------+\n",
      "|      34|\n",
      "+--------+\n",
      "\n"
     ]
    },
    {
     "data": {
      "text/plain": [
       "\u001b[36mnumberOfMovies\u001b[39m: \u001b[32mLong\u001b[39m = \u001b[32m34L\u001b[39m"
      ]
     },
     "execution_count": 18,
     "metadata": {},
     "output_type": "execute_result"
    }
   ],
   "source": [
    "// DONE students\n",
    "\n",
    "//Dataframe API\n",
    "val numberOfMovies = moviesDF.select(\"*\")\n",
    "                             .where(col(\"votes\") >= 500 && col(\"votes\") <= 2000)\n",
    "                             .count()\n",
    "println(\"Number of movies which have a number of votes between 500 and 2000 : \" + numberOfMovies)\n",
    "\n",
    "//SQL literal\n",
    "spark.sql(\n",
    "    \"\"\"\n",
    "    SELECT count(*) \n",
    "    FROM movie \n",
    "    WHERE movie.votes BETWEEN 500 AND 2000\n",
    "    \"\"\"\n",
    ")\n",
    "     .show()"
   ]
  },
  {
   "cell_type": "markdown",
   "metadata": {},
   "source": [
    "### Exercice 4 - Get the minimum, maximum and average rating of films per director. Sort the results by minimum rating.  "
   ]
  },
  {
   "cell_type": "code",
   "execution_count": 19,
   "metadata": {},
   "outputs": [
    {
     "data": {
      "text/html": [
       "<div>\n",
       "  <span style=\"float: left;\">show at cmd18.sc:6</span>\n",
       "</div>\n"
      ]
     },
     "metadata": {},
     "output_type": "display_data"
    },
    {
     "data": {
      "text/html": [
       "<div class=\"progress\">\n",
       "  <div class=\"progress-bar\" role=\"progressbar\" style=\"background-color: blue; width: 100%; word-wrap: normal; white-space: nowrap; text-align: center; color: white\" aria-valuenow=\"100\" aria-valuemin=\"0\" aria-valuemax=\"100\">\n",
       "    1 / 1\n",
       "  </div>\n",
       "  <div class=\"progress-bar\" role=\"progressbar\" style=\"background-color: red; width: 0%\" aria-valuenow=\"0\" aria-valuemin=\"0\" aria-valuemax=\"100\"></div>\n",
       "</div>\n"
      ]
     },
     "metadata": {},
     "output_type": "display_data"
    },
    {
     "data": {
      "text/html": [
       "<div>\n",
       "  <span style=\"float: left;\">show at cmd18.sc:6</span>\n",
       "</div>\n"
      ]
     },
     "metadata": {},
     "output_type": "display_data"
    },
    {
     "data": {
      "text/html": [
       "<div class=\"progress\">\n",
       "  <div class=\"progress-bar\" role=\"progressbar\" style=\"background-color: blue; width: 100%; word-wrap: normal; white-space: nowrap; text-align: center; color: white\" aria-valuenow=\"100\" aria-valuemin=\"0\" aria-valuemax=\"100\">\n",
       "    200 / 200\n",
       "  </div>\n",
       "  <div class=\"progress-bar\" role=\"progressbar\" style=\"background-color: red; width: 0%\" aria-valuenow=\"0\" aria-valuemin=\"0\" aria-valuemax=\"100\"></div>\n",
       "</div>\n"
      ]
     },
     "metadata": {},
     "output_type": "display_data"
    },
    {
     "name": "stdout",
     "output_type": "stream",
     "text": [
      "+--------------------+---+---+-----------------+\n",
      "|            director|min|max|              avg|\n",
      "+--------------------+---+---+-----------------+\n",
      "|     Jason Friedberg|1.9|1.9|              1.9|\n",
      "|       Shawn Burkett|2.7|2.7|              2.7|\n",
      "|          James Wong|2.7|2.7|              2.7|\n",
      "|   Jonathan Holbrook|3.2|3.2|              3.2|\n",
      "|       Femi Oyeniran|3.5|3.5|              3.5|\n",
      "|      Micheal Bafaro|3.5|3.5|              3.5|\n",
      "|           Sean Penn|3.7|8.1|              5.9|\n",
      "|     Jeffrey G. Hunt|3.7|3.7|              3.7|\n",
      "|      Rolfe Kanefsky|3.9|3.9|              3.9|\n",
      "|        George Nolfi|3.9|7.1|              5.5|\n",
      "|         D.J. Caruso|3.9|6.9|            5.875|\n",
      "|         Joey Curtis|4.0|4.0|              4.0|\n",
      "|  Sam Taylor-Johnson|4.1|4.1|              4.1|\n",
      "|  M. Night Shyamalan|4.2|7.3|5.533333333333332|\n",
      "|    Gee Malik Linton|4.2|4.2|              4.2|\n",
      "|     Elizabeth Banks|4.3|6.5|              5.4|\n",
      "|         Kevin Smith|4.3|6.6|5.433333333333334|\n",
      "|          Josh Trank|4.3|4.3|              4.3|\n",
      "|Michael Patrick King|4.3|5.5|              4.9|\n",
      "|             Tom Six|4.4|4.4|              4.4|\n",
      "+--------------------+---+---+-----------------+\n",
      "only showing top 20 rows\n",
      "\n"
     ]
    },
    {
     "data": {
      "text/html": [
       "<div>\n",
       "  <span style=\"float: left;\">show at cmd18.sc:11</span>\n",
       "</div>\n"
      ]
     },
     "metadata": {},
     "output_type": "display_data"
    },
    {
     "data": {
      "text/html": [
       "<div class=\"progress\">\n",
       "  <div class=\"progress-bar\" role=\"progressbar\" style=\"background-color: blue; width: 100%; word-wrap: normal; white-space: nowrap; text-align: center; color: white\" aria-valuenow=\"100\" aria-valuemin=\"0\" aria-valuemax=\"100\">\n",
       "    1 / 1\n",
       "  </div>\n",
       "  <div class=\"progress-bar\" role=\"progressbar\" style=\"background-color: red; width: 0%\" aria-valuenow=\"0\" aria-valuemin=\"0\" aria-valuemax=\"100\"></div>\n",
       "</div>\n"
      ]
     },
     "metadata": {},
     "output_type": "display_data"
    },
    {
     "data": {
      "text/html": [
       "<div>\n",
       "  <span style=\"float: left;\">show at cmd18.sc:11</span>\n",
       "</div>\n"
      ]
     },
     "metadata": {},
     "output_type": "display_data"
    },
    {
     "data": {
      "text/html": [
       "<div class=\"progress\">\n",
       "  <div class=\"progress-bar\" role=\"progressbar\" style=\"background-color: blue; width: 100%; word-wrap: normal; white-space: nowrap; text-align: center; color: white\" aria-valuenow=\"100\" aria-valuemin=\"0\" aria-valuemax=\"100\">\n",
       "    200 / 200\n",
       "  </div>\n",
       "  <div class=\"progress-bar\" role=\"progressbar\" style=\"background-color: red; width: 0%\" aria-valuenow=\"0\" aria-valuemin=\"0\" aria-valuemax=\"100\"></div>\n",
       "</div>\n"
      ]
     },
     "metadata": {},
     "output_type": "display_data"
    },
    {
     "name": "stdout",
     "output_type": "stream",
     "text": [
      "+--------------------+---+---+-----------------+\n",
      "|            director|min|max|              avg|\n",
      "+--------------------+---+---+-----------------+\n",
      "|     Jason Friedberg|1.9|1.9|              1.9|\n",
      "|       Shawn Burkett|2.7|2.7|              2.7|\n",
      "|          James Wong|2.7|2.7|              2.7|\n",
      "|   Jonathan Holbrook|3.2|3.2|              3.2|\n",
      "|       Femi Oyeniran|3.5|3.5|              3.5|\n",
      "|      Micheal Bafaro|3.5|3.5|              3.5|\n",
      "|           Sean Penn|3.7|8.1|              5.9|\n",
      "|     Jeffrey G. Hunt|3.7|3.7|              3.7|\n",
      "|      Rolfe Kanefsky|3.9|3.9|              3.9|\n",
      "|        George Nolfi|3.9|7.1|              5.5|\n",
      "|         D.J. Caruso|3.9|6.9|            5.875|\n",
      "|         Joey Curtis|4.0|4.0|              4.0|\n",
      "|  Sam Taylor-Johnson|4.1|4.1|              4.1|\n",
      "|  M. Night Shyamalan|4.2|7.3|5.533333333333332|\n",
      "|    Gee Malik Linton|4.2|4.2|              4.2|\n",
      "|     Elizabeth Banks|4.3|6.5|              5.4|\n",
      "|         Kevin Smith|4.3|6.6|5.433333333333334|\n",
      "|          Josh Trank|4.3|4.3|              4.3|\n",
      "|Michael Patrick King|4.3|5.5|              4.9|\n",
      "|             Tom Six|4.4|4.4|              4.4|\n",
      "+--------------------+---+---+-----------------+\n",
      "only showing top 20 rows\n",
      "\n"
     ]
    }
   ],
   "source": [
    "// DONE students\n",
    "\n",
    "//Dataframe API\n",
    "moviesDF.select(\"director\",\"rating\")\n",
    "        .groupBy(\"director\")\n",
    "        .agg(min(\"rating\").as(\"min\"),\n",
    "             max(\"rating\").as(\"max\"),\n",
    "             avg(\"rating\").as(\"avg\"))\n",
    "        .orderBy(\"min\")\n",
    "        .show()\n",
    "\n",
    "//SQL literal\n",
    "spark.sql(\n",
    "    \"\"\"\n",
    "    SELECT \n",
    "        movie.director,\n",
    "        min(movie.rating) as min, \n",
    "        max(movie.rating) as max, \n",
    "        avg(movie.rating) as avg \n",
    "    FROM movie \n",
    "    GROUP BY movie.director \n",
    "    ORDER BY min ASC\n",
    "    \"\"\"\n",
    ")\n",
    "     .show()\n"
   ]
  },
  {
   "cell_type": "markdown",
   "metadata": {},
   "source": [
    "### Exercice 5 - Find the title of the movie(s) having the minimum rating for each year. Show the title, year and the rating information in the result, order by increasing rating.\n",
    "\n",
    "**Example output**\n",
    "\n",
    "```plain\n",
    "+--------------------+----+------+\n",
    "|               title|year|rating|\n",
    "+--------------------+----+------+\n",
    "|      Disaster Movie|2008|   1.9|\n",
    "|Don't Fuck in the...|2016|   2.7|\n",
    "|Dragonball Evolution|2009|   2.7|\n",
    "...\n",
    "```"
   ]
  },
  {
   "cell_type": "code",
   "execution_count": 73,
   "metadata": {},
   "outputs": [
    {
     "ename": "",
     "evalue": "",
     "output_type": "error",
     "traceback": [
      "\u001b[31morg.apache.spark.sql.AnalysisException: expression 'movie.`title`' is neither present in the group by, nor is it an aggregate function. Add to group by or wrap in first() (or first_value) if you don't care which value you get.;;\nSort [min#811 ASC NULLS FIRST], true\n+- Project [first(title, false) OVER (PARTITION BY year ORDER BY rating ASC NULLS FIRST RANGE BETWEEN UNBOUNDED PRECEDING AND CURRENT ROW)#814, year#16, min#811]\n   +- Project [year#16, min#811, title#11, rating#18, first(title, false) OVER (PARTITION BY year ORDER BY rating ASC NULLS FIRST RANGE BETWEEN UNBOUNDED PRECEDING AND CURRENT ROW)#814, first(title, false) OVER (PARTITION BY year ORDER BY rating ASC NULLS FIRST RANGE BETWEEN UNBOUNDED PRECEDING AND CURRENT ROW)#814]\n      +- Window [first(title#11, false) windowspecdefinition(year#16, rating#18 ASC NULLS FIRST, specifiedwindowframe(RangeFrame, unboundedpreceding$(), currentrow$())) AS first(title, false) OVER (PARTITION BY year ORDER BY rating ASC NULLS FIRST RANGE BETWEEN UNBOUNDED PRECEDING AND CURRENT ROW)#814], [year#16], [rating#18 ASC NULLS FIRST]\n         +- Aggregate [year#16], [year#16, min(rating#18) AS min#811, title#11, rating#18]\n            +- SubqueryAlias `movie`\n               +- Relation[Rank#10,Title#11,Genre#12,Description#13,Director#14,Actors#15,Year#16,Runtime (Minutes)#17,Rating#18,Votes#19,Revenue (Millions)#20,Metascore#21] csv\n\u001b[39m\n  org.apache.spark.sql.catalyst.analysis.CheckAnalysis.failAnalysis(\u001b[32mCheckAnalysis.scala\u001b[39m:\u001b[32m43\u001b[39m)\n  org.apache.spark.sql.catalyst.analysis.CheckAnalysis.failAnalysis$(\u001b[32mCheckAnalysis.scala\u001b[39m:\u001b[32m42\u001b[39m)\n  org.apache.spark.sql.catalyst.analysis.Analyzer.failAnalysis(\u001b[32mAnalyzer.scala\u001b[39m:\u001b[32m95\u001b[39m)\n  org.apache.spark.sql.catalyst.analysis.CheckAnalysis.checkValidAggregateExpression$1(\u001b[32mCheckAnalysis.scala\u001b[39m:\u001b[32m229\u001b[39m)\n  org.apache.spark.sql.catalyst.analysis.CheckAnalysis.$anonfun$checkAnalysis$13(\u001b[32mCheckAnalysis.scala\u001b[39m:\u001b[32m258\u001b[39m)\n  org.apache.spark.sql.catalyst.analysis.CheckAnalysis.$anonfun$checkAnalysis$13$adapted(\u001b[32mCheckAnalysis.scala\u001b[39m:\u001b[32m258\u001b[39m)\n  scala.collection.immutable.List.foreach(\u001b[32mList.scala\u001b[39m:\u001b[32m392\u001b[39m)\n  org.apache.spark.sql.catalyst.analysis.CheckAnalysis.$anonfun$checkAnalysis$1(\u001b[32mCheckAnalysis.scala\u001b[39m:\u001b[32m258\u001b[39m)\n  org.apache.spark.sql.catalyst.analysis.CheckAnalysis.$anonfun$checkAnalysis$1$adapted(\u001b[32mCheckAnalysis.scala\u001b[39m:\u001b[32m86\u001b[39m)\n  org.apache.spark.sql.catalyst.trees.TreeNode.foreachUp(\u001b[32mTreeNode.scala\u001b[39m:\u001b[32m127\u001b[39m)\n  org.apache.spark.sql.catalyst.trees.TreeNode.$anonfun$foreachUp$1(\u001b[32mTreeNode.scala\u001b[39m:\u001b[32m126\u001b[39m)\n  org.apache.spark.sql.catalyst.trees.TreeNode.$anonfun$foreachUp$1$adapted(\u001b[32mTreeNode.scala\u001b[39m:\u001b[32m126\u001b[39m)\n  scala.collection.immutable.List.foreach(\u001b[32mList.scala\u001b[39m:\u001b[32m392\u001b[39m)\n  org.apache.spark.sql.catalyst.trees.TreeNode.foreachUp(\u001b[32mTreeNode.scala\u001b[39m:\u001b[32m126\u001b[39m)\n  org.apache.spark.sql.catalyst.trees.TreeNode.$anonfun$foreachUp$1(\u001b[32mTreeNode.scala\u001b[39m:\u001b[32m126\u001b[39m)\n  org.apache.spark.sql.catalyst.trees.TreeNode.$anonfun$foreachUp$1$adapted(\u001b[32mTreeNode.scala\u001b[39m:\u001b[32m126\u001b[39m)\n  scala.collection.immutable.List.foreach(\u001b[32mList.scala\u001b[39m:\u001b[32m392\u001b[39m)\n  org.apache.spark.sql.catalyst.trees.TreeNode.foreachUp(\u001b[32mTreeNode.scala\u001b[39m:\u001b[32m126\u001b[39m)\n  org.apache.spark.sql.catalyst.trees.TreeNode.$anonfun$foreachUp$1(\u001b[32mTreeNode.scala\u001b[39m:\u001b[32m126\u001b[39m)\n  org.apache.spark.sql.catalyst.trees.TreeNode.$anonfun$foreachUp$1$adapted(\u001b[32mTreeNode.scala\u001b[39m:\u001b[32m126\u001b[39m)\n  scala.collection.immutable.List.foreach(\u001b[32mList.scala\u001b[39m:\u001b[32m392\u001b[39m)\n  org.apache.spark.sql.catalyst.trees.TreeNode.foreachUp(\u001b[32mTreeNode.scala\u001b[39m:\u001b[32m126\u001b[39m)\n  org.apache.spark.sql.catalyst.trees.TreeNode.$anonfun$foreachUp$1(\u001b[32mTreeNode.scala\u001b[39m:\u001b[32m126\u001b[39m)\n  org.apache.spark.sql.catalyst.trees.TreeNode.$anonfun$foreachUp$1$adapted(\u001b[32mTreeNode.scala\u001b[39m:\u001b[32m126\u001b[39m)\n  scala.collection.immutable.List.foreach(\u001b[32mList.scala\u001b[39m:\u001b[32m392\u001b[39m)\n  org.apache.spark.sql.catalyst.trees.TreeNode.foreachUp(\u001b[32mTreeNode.scala\u001b[39m:\u001b[32m126\u001b[39m)\n  org.apache.spark.sql.catalyst.analysis.CheckAnalysis.checkAnalysis(\u001b[32mCheckAnalysis.scala\u001b[39m:\u001b[32m86\u001b[39m)\n  org.apache.spark.sql.catalyst.analysis.CheckAnalysis.checkAnalysis$(\u001b[32mCheckAnalysis.scala\u001b[39m:\u001b[32m83\u001b[39m)\n  org.apache.spark.sql.catalyst.analysis.Analyzer.checkAnalysis(\u001b[32mAnalyzer.scala\u001b[39m:\u001b[32m95\u001b[39m)\n  org.apache.spark.sql.catalyst.analysis.Analyzer.$anonfun$executeAndCheck$1(\u001b[32mAnalyzer.scala\u001b[39m:\u001b[32m108\u001b[39m)\n  org.apache.spark.sql.catalyst.plans.logical.AnalysisHelper$.markInAnalyzer(\u001b[32mAnalysisHelper.scala\u001b[39m:\u001b[32m201\u001b[39m)\n  org.apache.spark.sql.catalyst.analysis.Analyzer.executeAndCheck(\u001b[32mAnalyzer.scala\u001b[39m:\u001b[32m105\u001b[39m)\n  org.apache.spark.sql.execution.QueryExecution.analyzed$lzycompute(\u001b[32mQueryExecution.scala\u001b[39m:\u001b[32m57\u001b[39m)\n  org.apache.spark.sql.execution.QueryExecution.analyzed(\u001b[32mQueryExecution.scala\u001b[39m:\u001b[32m55\u001b[39m)\n  org.apache.spark.sql.execution.QueryExecution.assertAnalyzed(\u001b[32mQueryExecution.scala\u001b[39m:\u001b[32m47\u001b[39m)\n  org.apache.spark.sql.Dataset$.ofRows(\u001b[32mDataset.scala\u001b[39m:\u001b[32m78\u001b[39m)\n  org.apache.spark.sql.SparkSession.sql(\u001b[32mSparkSession.scala\u001b[39m:\u001b[32m642\u001b[39m)\n  ammonite.$sess.cmd72$Helper.<init>(\u001b[32mcmd72.sc\u001b[39m:\u001b[32m2\u001b[39m)\n  ammonite.$sess.cmd72$.<init>(\u001b[32mcmd72.sc\u001b[39m:\u001b[32m7\u001b[39m)\n  ammonite.$sess.cmd72$.<clinit>(\u001b[32mcmd72.sc\u001b[39m:\u001b[32m-1\u001b[39m)"
     ]
    }
   ],
   "source": [
    "// TODO students\n",
    "\n",
    "//Dataframe API\n",
    "\n",
    "//SQL literal\n",
    "spark.sql(\n",
    "    \"\"\"\n",
    "    SELECT\n",
    "        FIRST_VALUE(movie.title) OVER(\n",
    "            PARTITION BY movie.year\n",
    "            ORDER BY movie.rating ASC\n",
    "        ),\n",
    "        movie.year,\n",
    "        min(movie.rating) as min\n",
    "    FROM movie\n",
    "    GROUP BY movie.year\n",
    "    ORDER BY min ASC\n",
    "    \"\"\"\n",
    ")\n",
    "     .show(false)\n"
   ]
  },
  {
   "cell_type": "markdown",
   "metadata": {},
   "source": [
    "### Exercice 6 - Find the title of movies having the same director. \n",
    "\n",
    "**Example output**\n",
    "\n",
    "```plain\n",
    "+------------------+--------------------+--------------------+\n",
    "|         director1|              title1|              title2|\n",
    "+------------------+--------------------+--------------------+\n",
    "|        James Gunn|Guardians of the ...|               Super|\n",
    "|        James Gunn|Guardians of the ...|             Slither|\n",
    "|      Ridley Scott|          Prometheus|        Body of Lies|\n",
    "|      Ridley Scott|          Prometheus|         A Good Year|\n",
    "...\n",
    "```\n",
    "\n",
    "Note that when using the dataframe API:\n",
    "* You can use `===` to test equality of columns and `!==` to test non-equality of them\n",
    "* You can use the `as` keyword to make alias of column names and table names (check the reference documentation)"
   ]
  },
  {
   "cell_type": "code",
   "execution_count": null,
   "metadata": {},
   "outputs": [],
   "source": [
    "// TODO students"
   ]
  },
  {
   "cell_type": "code",
   "execution_count": null,
   "metadata": {},
   "outputs": [],
   "source": []
  }
 ],
 "metadata": {
  "jupytext": {
   "formats": "ipynb,md"
  },
  "kernelspec": {
   "display_name": "Scala 2.12",
   "language": "scala",
   "name": "scala212"
  },
  "language_info": {
   "codemirror_mode": "text/x-scala",
   "file_extension": ".scala",
   "mimetype": "text/x-scala",
   "name": "scala",
   "nbconvert_exporter": "script",
   "version": "2.12.10"
  }
 },
 "nbformat": 4,
 "nbformat_minor": 4
}
